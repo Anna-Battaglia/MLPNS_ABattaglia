{
  "nbformat": 4,
  "nbformat_minor": 0,
  "metadata": {
    "colab": {
      "provenance": [],
      "authorship_tag": "ABX9TyMG7Jk/yPGkMw4+v6KqzQv4",
      "include_colab_link": true
    },
    "kernelspec": {
      "name": "python3",
      "display_name": "Python 3"
    },
    "language_info": {
      "name": "python"
    }
  },
  "cells": [
    {
      "cell_type": "markdown",
      "metadata": {
        "id": "view-in-github",
        "colab_type": "text"
      },
      "source": [
        "<a href=\"https://colab.research.google.com/github/Anna-Battaglia/MLPNS_ABattaglia/blob/main/NN.ipynb\" target=\"_parent\"><img src=\"https://colab.research.google.com/assets/colab-badge.svg\" alt=\"Open In Colab\"/></a>"
      ]
    },
    {
      "cell_type": "code",
      "execution_count": 2,
      "metadata": {
        "id": "TVR6x3GgKR3B"
      },
      "outputs": [],
      "source": [
        "import numpy as np\n",
        "import pylab as pl"
      ]
    },
    {
      "cell_type": "code",
      "source": [
        "X = np.array(\n",
        "    [[0,0,1],\n",
        "     [1,1,1],\n",
        "    [1,0,1],\n",
        "     [0,1,1,]]\n",
        ")\n",
        "X "
      ],
      "metadata": {
        "colab": {
          "base_uri": "https://localhost:8080/"
        },
        "id": "oGAwVwUbKXOK",
        "outputId": "cfd8fddf-662c-4db6-f524-a882147071aa"
      },
      "execution_count": 3,
      "outputs": [
        {
          "output_type": "execute_result",
          "data": {
            "text/plain": [
              "array([[0, 0, 1],\n",
              "       [1, 1, 1],\n",
              "       [1, 0, 1],\n",
              "       [0, 1, 1]])"
            ]
          },
          "metadata": {},
          "execution_count": 3
        }
      ]
    },
    {
      "cell_type": "code",
      "source": [
        "pl.imshow(X)\n",
        "pl.axis('off')"
      ],
      "metadata": {
        "colab": {
          "base_uri": "https://localhost:8080/",
          "height": 423
        },
        "id": "3izVBOUvLAug",
        "outputId": "ce56917e-b0d1-47e9-a36b-4eb2885876af"
      },
      "execution_count": 4,
      "outputs": [
        {
          "output_type": "execute_result",
          "data": {
            "text/plain": [
              "(-0.5, 2.5, 3.5, -0.5)"
            ]
          },
          "metadata": {},
          "execution_count": 4
        },
        {
          "output_type": "display_data",
          "data": {
            "text/plain": [
              "<Figure size 640x480 with 1 Axes>"
            ],
            "image/png": "[encoded data removed]"
          },
          "metadata": {}
        }
      ]
    },
    {
      "cell_type": "code",
      "source": [
        "y=np.array([[0,1,1,0]]).T\n",
        "y"
      ],
      "metadata": {
        "colab": {
          "base_uri": "https://localhost:8080/"
        },
        "id": "VFwT189mLIhJ",
        "outputId": "33d12c73-50ba-4014-8c7b-6f925624175c"
      },
      "execution_count": 5,
      "outputs": [
        {
          "output_type": "execute_result",
          "data": {
            "text/plain": [
              "array([[0],\n",
              "       [1],\n",
              "       [1],\n",
              "       [0]])"
            ]
          },
          "metadata": {},
          "execution_count": 5
        }
      ]
    },
    {
      "cell_type": "code",
      "source": [
        "y.shape"
      ],
      "metadata": {
        "colab": {
          "base_uri": "https://localhost:8080/"
        },
        "id": "juW_yvnXLSVo",
        "outputId": "0ea0216e-0350-44a2-ac99-9cafc94ee50e"
      },
      "execution_count": 6,
      "outputs": [
        {
          "output_type": "execute_result",
          "data": {
            "text/plain": [
              "(4, 1)"
            ]
          },
          "metadata": {},
          "execution_count": 6
        }
      ]
    },
    {
      "cell_type": "code",
      "source": [
        "#Vogliamo predirre l'output sulla base di questo input\n",
        "print('input\\n',X)\n",
        "print('output\\n',y)"
      ],
      "metadata": {
        "colab": {
          "base_uri": "https://localhost:8080/"
        },
        "id": "4ysMBjVNLVsB",
        "outputId": "61e32c03-86f1-4ee1-986e-47e4991b6183"
      },
      "execution_count": 7,
      "outputs": [
        {
          "output_type": "stream",
          "name": "stdout",
          "text": [
            "input\n",
            " [[0 0 1]\n",
            " [1 1 1]\n",
            " [1 0 1]\n",
            " [0 1 1]]\n",
            "output\n",
            " [[0]\n",
            " [1]\n",
            " [1]\n",
            " [0]]\n"
          ]
        }
      ]
    },
    {
      "cell_type": "markdown",
      "source": [
        "#basic architecture :1 layer\n",
        "4 osservazioni\n",
        "\n",
        "3 neuroni\n",
        "\n",
        "1 layer"
      ],
      "metadata": {
        "id": "Dt98L_dZLo_5"
      }
    },
    {
      "cell_type": "code",
      "source": [
        "def sigmoid(x):\n",
        "  return 1./(1.+np.exp(-x))"
      ],
      "metadata": {
        "id": "TGCIZucALmTy"
      },
      "execution_count": 8,
      "outputs": []
    },
    {
      "cell_type": "code",
      "source": [
        "pl.plot(np.arange(-10,10,0.1),sigmoid(np.arange(-10,10,0.1))) "
      ],
      "metadata": {
        "colab": {
          "base_uri": "https://localhost:8080/",
          "height": 447
        },
        "id": "WABzcbm8MOhx",
        "outputId": "d6497865-393e-4cc2-dbec-a383906196b4"
      },
      "execution_count": 9,
      "outputs": [
        {
          "output_type": "execute_result",
          "data": {
            "text/plain": [
              "[<matplotlib.lines.Line2D at 0x7f3648c0ad70>]"
            ]
          },
          "metadata": {},
          "execution_count": 9
        },
        {
          "output_type": "display_data",
          "data": {
            "text/plain": [
              "<Figure size 640x480 with 1 Axes>"
            ],
            "image/png": "[encoded data removed]"
          },
          "metadata": {}
        }
      ]
    },
    {
      "cell_type": "code",
      "source": [
        "#definiamo la loss function: in questo caso è molto semplice ma non sempre sarà così\n",
        "\n",
        "def loss(prediction,target):\n",
        "  return target - prediction "
      ],
      "metadata": {
        "id": "-EcOQb_4MW2J"
      },
      "execution_count": 29,
      "outputs": []
    },
    {
      "cell_type": "code",
      "source": [
        "def dsigmoid(x): #definiamo la derivata\n",
        "  return x*(1. -x)"
      ],
      "metadata": {
        "id": "qV_KlNnaNADz"
      },
      "execution_count": 11,
      "outputs": []
    },
    {
      "cell_type": "markdown",
      "source": [
        "##Neural network"
      ],
      "metadata": {
        "id": "Ef-1EHjoMy45"
      }
    },
    {
      "cell_type": "code",
      "source": [
        "np.random.seed(302) #se non setto un seme il risultato non è riproducibile\n",
        "\n",
        "training = 6000"
      ],
      "metadata": {
        "id": "oAuxoCkZMwCP"
      },
      "execution_count": 12,
      "outputs": []
    },
    {
      "cell_type": "code",
      "source": [
        "np.random.seed(302)\n",
        "2*np.random.random((3,1)) -1\n",
        "\n",
        "#np.random.random return random floats in the half-open interval [0.0, 1.0)"
      ],
      "metadata": {
        "colab": {
          "base_uri": "https://localhost:8080/"
        },
        "id": "KVwuZynxSyHl",
        "outputId": "9eadd223-c993-41e5-ea84-12c949a9c3a2"
      },
      "execution_count": 20,
      "outputs": [
        {
          "output_type": "execute_result",
          "data": {
            "text/plain": [
              "array([[ 0.27256242],\n",
              "       [ 0.65008468],\n",
              "       [-0.31671053]])"
            ]
          },
          "metadata": {},
          "execution_count": 20
        }
      ]
    },
    {
      "cell_type": "code",
      "source": [
        "#layer of synopses / neurons\n",
        "# 4 x 3 \n",
        "\n",
        "np.random.seed(302)\n",
        "\n",
        "syn0 = 2*np.random.random((3,1)) -1 # sono i pesi: normalizzato tra -1 e 1 \n",
        "print(syn0.shape)\n",
        "print(syn0)\n",
        "\n",
        "loss_output = []\n",
        "\n",
        "for iter in range(training):\n",
        "  inputLayer = X\n",
        "\n",
        "  #forward propagation\n",
        "  #linear regression\n",
        "  l1 = np.dot(inputLayer,syn0)\n",
        "  #activations\n",
        "  output = sigmoid(l1)\n",
        "\n",
        "#calcoliamo la correzione sui pesi delle sinapsi\n",
        "#calculate error\n",
        "  output_error = loss(output,y)\n",
        "  loss_output.append(np.abs(output_error).sum())\n",
        "#calculate corrections\n",
        "  output_delta = output_error * dsigmoid(output)\n",
        "#apply correction to weights\n",
        "  syn0 +=np.dot(inputLayer.T, output_delta) #correzione sui pesi delle sinapsi\n",
        "\n",
        "\n",
        "print('output after training\\n',output)\n",
        "print('output target\\n',y)"
      ],
      "metadata": {
        "colab": {
          "base_uri": "https://localhost:8080/"
        },
        "id": "h6XVshxENiEp",
        "outputId": "611ac3b5-271d-4d80-dfe7-cc644a05d8dd"
      },
      "execution_count": 21,
      "outputs": [
        {
          "output_type": "stream",
          "name": "stdout",
          "text": [
            "(3, 1)\n",
            "[[ 0.27256242]\n",
            " [ 0.65008468]\n",
            " [-0.31671053]]\n",
            "output after training\n",
            " [[0.01254551]\n",
            " [0.98977455]\n",
            " [0.99169035]\n",
            " [0.0101995 ]]\n",
            "output target\n",
            " [[0]\n",
            " [1]\n",
            " [1]\n",
            " [0]]\n"
          ]
        }
      ]
    },
    {
      "cell_type": "code",
      "source": [
        "pl.plot(loss_output, 'o', label='output')\n",
        "pl.legend()\n",
        "pl.xlabel('iteration (epoch)')\n",
        "pl.ylabel('global loss');"
      ],
      "metadata": {
        "colab": {
          "base_uri": "https://localhost:8080/",
          "height": 449
        },
        "id": "jL2oN1aoOhtY",
        "outputId": "ac7f4e4a-b092-4205-b9c4-867c11780921"
      },
      "execution_count": 25,
      "outputs": [
        {
          "output_type": "display_data",
          "data": {
            "text/plain": [
              "<Figure size 640x480 with 1 Axes>"
            ],
            "image/png": "[encoded data removed]"
          },
          "metadata": {}
        }
      ]
    },
    {
      "cell_type": "code",
      "source": [
        "syn0"
      ],
      "metadata": {
        "colab": {
          "base_uri": "https://localhost:8080/"
        },
        "id": "3j2YoMwDL3Ob",
        "outputId": "9290331d-4a2f-44dd-d0bc-4af10a793bcd"
      },
      "execution_count": 31,
      "outputs": [
        {
          "output_type": "execute_result",
          "data": {
            "text/plain": [
              "array([[-3.22165194,  3.43969394, -0.58162708,  2.7518911 , -3.43936046],\n",
              "       [ 0.14754469,  0.14165048, -0.80194267, -0.6258268 , -0.00729567],\n",
              "       [ 1.13320049, -1.44613933,  0.54355811, -0.53295857,  1.34697598]])"
            ]
          },
          "metadata": {},
          "execution_count": 31
        }
      ]
    },
    {
      "cell_type": "code",
      "source": [
        "np.random.seed(302)\n",
        "W1=2*np.random.random((3,5)) -1\n",
        "W2=2*np.random.random((5,1)) -1"
      ],
      "metadata": {
        "id": "O_AhAYfnRm-u"
      },
      "execution_count": 32,
      "outputs": []
    },
    {
      "cell_type": "code",
      "source": [
        "np.random.seed(302)\n",
        "#back propagation\n",
        "#in questo caso ho un hidden layer i 5 neuroni\n",
        "\n",
        "# 4x3 -> 3x5 ->5x1 => 4x1\n",
        "syn0 =  2 * np.random.random((3, 5)) - 1 #normalized 0-1\n",
        "syn1 =  2 * np.random.random((5, 1)) - 1 #normalized 0-1\n",
        "\n",
        "\n",
        "loss_output = []\n",
        "loss_hidden = []\n",
        "\n",
        "for iter in range(training):\n",
        "  inputLayer = X\n",
        "  \n",
        "  # forward propagation\n",
        "\n",
        "  #linear regression (dot product linear algebra solution)\n",
        "  l1 = np.dot(inputLayer, syn0)\n",
        "  #activations\n",
        "  hidden = sigmoid(l1)\n",
        "\n",
        "  l2 = np.dot(hidden, syn1)\n",
        "  #activations\n",
        "  output = sigmoid(l2)\n",
        "\n",
        "  #calculate error\n",
        "  output_error = loss(output, y)\n",
        "  loss_output.append(np.abs(output_error).sum())\n",
        "  # backward propagation\n",
        "\n",
        "  #caluclate correction\n",
        "  output_delta = output_error * dsigmoid(output)\n",
        "\n",
        "  # MODIFIED: error on the first layer \n",
        "  hidden_error = output_delta.dot(syn1.T)\n",
        "  loss_hidden.append(np.abs(hidden_error).sum())\n",
        "\n",
        "  hidden_delta = hidden_error * dsigmoid(hidden)\n",
        "\n",
        "  #apply correction to weights\n",
        "  syn0 += np.dot(inputLayer.T, hidden_delta)\n",
        "  syn1 += np.dot(hidden.T, output_delta)\n",
        "\n",
        "print(\"output after training\\n\", output)\n",
        "print(\"output target\\n\", y)"
      ],
      "metadata": {
        "colab": {
          "base_uri": "https://localhost:8080/"
        },
        "id": "66z472HAwPdZ",
        "outputId": "239433d3-508c-4464-cfdf-ab4c578c2e8e"
      },
      "execution_count": 33,
      "outputs": [
        {
          "output_type": "stream",
          "name": "stdout",
          "text": [
            "output after training\n",
            " [[0.00648042]\n",
            " [0.99370941]\n",
            " [0.99426848]\n",
            " [0.00489822]]\n",
            "output target\n",
            " [[0]\n",
            " [1]\n",
            " [1]\n",
            " [0]]\n"
          ]
        }
      ]
    },
    {
      "cell_type": "code",
      "source": [
        "pl.plot(loss_output, label=\"output\")\n",
        "pl.plot(loss_hidden, label=\"hidden\")\n",
        "pl.legend()\n",
        "pl.xlabel(\"iteration (epoch)\")\n",
        "pl.ylabel(\"global loss\");"
      ],
      "metadata": {
        "colab": {
          "base_uri": "https://localhost:8080/",
          "height": 449
        },
        "id": "eZL7drofX93G",
        "outputId": "fdce321b-b93a-44e9-8aec-61160402e99a"
      },
      "execution_count": 34,
      "outputs": [
        {
          "output_type": "display_data",
          "data": {
            "text/plain": [
              "<Figure size 640x480 with 1 Axes>"
            ],
            "image/png": "[encoded data removed]"
          },
          "metadata": {}
        }
      ]
    },
    {
      "cell_type": "markdown",
      "source": [
        "#27/04"
      ],
      "metadata": {
        "id": "cKXlZLCGAotC"
      }
    },
    {
      "cell_type": "code",
      "source": [
        "from tensorflow import keras"
      ],
      "metadata": {
        "id": "-421FXnFYGSz"
      },
      "execution_count": 36,
      "outputs": []
    },
    {
      "cell_type": "code",
      "source": [
        "#creo il modello:\n",
        "hlayer = keras.layers.Dense(5,input_dim=3, activation='sigmoid') #hidden layer , 5 neuroni in output\n",
        "olayer = keras.layers.Dense(1, activation='linear')\n",
        "model=keras.Sequential([hlayer,olayer]) #prende come argomento la lista dei layer che ho creato\n",
        "#no loop e connnessioni tra i layers, vado in una sola direzione\n",
        "model.summary()"
      ],
      "metadata": {
        "id": "-8lBIDvlAKoP",
        "outputId": "2d856025-e674-4b21-9311-3ceacc22a8f4",
        "colab": {
          "base_uri": "https://localhost:8080/"
        }
      },
      "execution_count": null,
      "outputs": [
        {
          "output_type": "stream",
          "name": "stdout",
          "text": [
            "Model: \"sequential_2\"\n",
            "_________________________________________________________________\n",
            " Layer (type)                Output Shape              Param #   \n",
            "=================================================================\n",
            " dense_4 (Dense)             (None, 5)                 20        \n",
            "                                                                 \n",
            " dense_5 (Dense)             (None, 1)                 6         \n",
            "                                                                 \n",
            "=================================================================\n",
            "Total params: 26\n",
            "Trainable params: 26\n",
            "Non-trainable params: 0\n",
            "_________________________________________________________________\n"
          ]
        }
      ]
    },
    {
      "cell_type": "code",
      "source": [
        "#compilazione del modello:\n",
        "model.compile(loss='mae', optimizer='adam', metrics=['accuracy', 'mae'])"
      ],
      "metadata": {
        "id": "fCOG2_34BnEj"
      },
      "execution_count": null,
      "outputs": []
    },
    {
      "cell_type": "code",
      "source": [
        "model.fit(X,y,epochs=1000); #qui viene monitorata la loss function"
      ],
      "metadata": {
        "id": "yO_6YnaKCwRk",
        "outputId": "703476d3-3af0-4159-9fd0-d366e7393c65",
        "colab": {
          "base_uri": "https://localhost:8080/"
        }
      },
      "execution_count": 35,
      "outputs": [
        {
          "output_type": "error",
          "ename": "NameError",
          "evalue": "ignored",
          "traceback": [
            "\u001b[0;31m---------------------------------------------------------------------------\u001b[0m",
            "\u001b[0;31mNameError\u001b[0m                                 Traceback (most recent call last)",
            "\u001b[0;32m<ipython-input-35-89d0781b7e22>\u001b[0m in \u001b[0;36m<cell line: 1>\u001b[0;34m()\u001b[0m\n\u001b[0;32m----> 1\u001b[0;31m \u001b[0mmodel\u001b[0m\u001b[0;34m.\u001b[0m\u001b[0mfit\u001b[0m\u001b[0;34m(\u001b[0m\u001b[0mX\u001b[0m\u001b[0;34m,\u001b[0m\u001b[0my\u001b[0m\u001b[0;34m,\u001b[0m\u001b[0mepochs\u001b[0m\u001b[0;34m=\u001b[0m\u001b[0;36m1000\u001b[0m\u001b[0;34m)\u001b[0m\u001b[0;34m;\u001b[0m \u001b[0;31m#qui viene monitorata la loss function\u001b[0m\u001b[0;34m\u001b[0m\u001b[0;34m\u001b[0m\u001b[0m\n\u001b[0m",
            "\u001b[0;31mNameError\u001b[0m: name 'model' is not defined"
          ]
        }
      ]
    },
    {
      "cell_type": "code",
      "source": [
        "#oredizione sul training data:\n",
        "model.predict(X)"
      ],
      "metadata": {
        "id": "QwVbWmDqC5n_",
        "outputId": "cc0ccf52-73e5-4f70-8376-73a4d1089562",
        "colab": {
          "base_uri": "https://localhost:8080/"
        }
      },
      "execution_count": null,
      "outputs": [
        {
          "output_type": "stream",
          "name": "stdout",
          "text": [
            "1/1 [==============================] - 0s 141ms/step\n"
          ]
        },
        {
          "output_type": "execute_result",
          "data": {
            "text/plain": [
              "array([[ 0.00139907],\n",
              "       [ 1.0000188 ],\n",
              "       [ 0.9976555 ],\n",
              "       [-0.00229231]], dtype=float32)"
            ]
          },
          "metadata": {},
          "execution_count": 25
        }
      ]
    },
    {
      "cell_type": "code",
      "source": [
        "y"
      ],
      "metadata": {
        "id": "upJQOYOmDVPm",
        "outputId": "c506ff6e-7327-46a1-d9de-a694318cddc4",
        "colab": {
          "base_uri": "https://localhost:8080/"
        }
      },
      "execution_count": null,
      "outputs": [
        {
          "output_type": "execute_result",
          "data": {
            "text/plain": [
              "array([[0],\n",
              "       [1],\n",
              "       [1],\n",
              "       [0]])"
            ]
          },
          "metadata": {},
          "execution_count": 26
        }
      ]
    },
    {
      "cell_type": "code",
      "source": [
        "keras.layers."
      ],
      "metadata": {
        "id": "Gr3VCg6BDcKf"
      },
      "execution_count": null,
      "outputs": []
    }
  ]
}